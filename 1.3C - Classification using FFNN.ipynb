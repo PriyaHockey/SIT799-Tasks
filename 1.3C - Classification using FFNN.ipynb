{
 "cells": [
  {
   "cell_type": "markdown",
   "metadata": {},
   "source": [
    "GitHub [link](https://github.com/MYUSER/MYPROJECT/)!"
   ]
  },
  {
   "cell_type": "markdown",
   "metadata": {},
   "source": [
    "Welcome to your assignment this week! \n",
    "\n",
    "\n",
    "# Classification task\n",
    "\n",
    "In this task you are asked to build a simple Feed Forward Neural Network, train it and test it!\n",
    "\n",
    "\n",
    "**After this assignment you will be able to:**\n",
    "\n",
    "- Load a dataset.\n",
    "- Train a Feed Forward Neural Network.\n",
    "- Test a Feed Forward Neural Network.\n",
    "\n",
    "Let's get started! Run the following cell to install all the packages you will need."
   ]
  },
  {
   "cell_type": "code",
   "execution_count": 41,
   "metadata": {},
   "outputs": [],
   "source": [
    "#!pip install numpy\n",
    "#!pip install keras\n",
    "#!pip install tensorflow\n",
    "#!pip install pandas\n",
    "#!pip install matplotlib"
   ]
  },
  {
   "cell_type": "markdown",
   "metadata": {},
   "source": [
    "Run the following cell to load the packages you will need."
   ]
  },
  {
   "cell_type": "code",
   "execution_count": 42,
   "metadata": {},
   "outputs": [],
   "source": [
    "import numpy as np # linear algebra\n",
    "import pandas as pd # data processing, CSV file I/O (e.g. pd.read_csv)\n",
    "from sklearn.model_selection import train_test_split\n",
    "import matplotlib.pyplot as plt\n",
    "import keras\n",
    "from keras.models import Sequential\n",
    "from keras.layers import Dense"
   ]
  },
  {
   "cell_type": "markdown",
   "metadata": {},
   "source": [
    "The dataset we will use consists of 4500 examples with 512 features. A label is given for each example to indicate positive and negative instances.\n",
    "\n",
    "Let's read the data."
   ]
  },
  {
   "cell_type": "code",
   "execution_count": 43,
   "metadata": {},
   "outputs": [],
   "source": [
    "import pandas as pd\n",
    "df = pd.read_csv('data.csv')\n",
    "df.set_index('id', inplace=True)"
   ]
  },
  {
   "cell_type": "markdown",
   "metadata": {},
   "source": [
    "# Task 1\n",
    "\n",
    "Build a Feed Forward Neural Network to address this classification task using the Keras framework."
   ]
  },
  {
   "cell_type": "code",
   "execution_count": 44,
   "metadata": {},
   "outputs": [],
   "source": [
    "#Converting the dataframe to array\n",
    "dataset = df.values"
   ]
  },
  {
   "cell_type": "code",
   "execution_count": 45,
   "metadata": {},
   "outputs": [
    {
     "data": {
      "text/plain": [
       "array([[ 0.37797, -0.94808,  0.01346, ...,  1.69027,  0.61609,  0.     ],\n",
       "       [ 0.07609, -0.09774,  0.39666, ..., -1.2764 , -0.60496,  1.     ],\n",
       "       [ 1.19391, -0.68707, -0.68422, ...,  0.43555,  0.41982,  1.     ],\n",
       "       ...,\n",
       "       [-0.81564, -0.46034, -0.40044, ...,  0.10394, -0.33635,  1.     ],\n",
       "       [ 0.09764, -0.0544 , -1.53883, ...,  0.84022, -0.13068,  1.     ],\n",
       "       [ 0.48335,  1.66099, -1.98407, ..., -2.24746,  0.17192,  0.     ]])"
      ]
     },
     "execution_count": 45,
     "metadata": {},
     "output_type": "execute_result"
    }
   ],
   "source": [
    "dataset"
   ]
  },
  {
   "cell_type": "markdown",
   "metadata": {},
   "source": [
    "Let's split the data into input features(X) and the features we wish to predict(Y)"
   ]
  },
  {
   "cell_type": "code",
   "execution_count": 46,
   "metadata": {},
   "outputs": [],
   "source": [
    "X = dataset[:,0:512]"
   ]
  },
  {
   "cell_type": "code",
   "execution_count": 47,
   "metadata": {},
   "outputs": [],
   "source": [
    "Y = dataset[:,512]"
   ]
  },
  {
   "cell_type": "code",
   "execution_count": 48,
   "metadata": {},
   "outputs": [],
   "source": [
    "#Preprocessing thr data\n",
    "#Using min-max scaler, which scales the dataset so that the input features lie between 0 and 1\n",
    "from sklearn import preprocessing\n",
    "min_max_scaler = preprocessing.MinMaxScaler()\n",
    "X_scale = min_max_scaler.fit_transform(X)"
   ]
  },
  {
   "cell_type": "code",
   "execution_count": 49,
   "metadata": {},
   "outputs": [
    {
     "data": {
      "text/plain": [
       "array([[0.60465168, 0.29659094, 0.4190079 , ..., 0.69940055, 0.85783983,\n",
       "        0.6143322 ],\n",
       "       [0.54888769, 0.47248199, 0.48044681, ..., 0.48985921, 0.26827901,\n",
       "        0.40141209],\n",
       "       [0.75537404, 0.35058031, 0.30714805, ..., 0.37116986, 0.60849165,\n",
       "        0.58010769],\n",
       "       ...,\n",
       "       [0.38416523, 0.39747894, 0.35264683, ..., 0.51582803, 0.54259141,\n",
       "        0.44825085],\n",
       "       [0.55286846, 0.48144678, 0.17012742, ..., 0.43880235, 0.68891097,\n",
       "        0.48411447],\n",
       "       [0.62411772, 0.83627161, 0.09874156, ..., 0.50023235, 0.07530207,\n",
       "        0.53688023]])"
      ]
     },
     "execution_count": 49,
     "metadata": {},
     "output_type": "execute_result"
    }
   ],
   "source": [
    "X_scale  #Scaled dataset is stored in X_scale"
   ]
  },
  {
   "cell_type": "markdown",
   "metadata": {},
   "source": [
    "Spliting the dataset into a training set, validation set and a test set"
   ]
  },
  {
   "cell_type": "code",
   "execution_count": 50,
   "metadata": {},
   "outputs": [],
   "source": [
    "from sklearn.model_selection import train_test_split\n",
    "X_train, X_val_and_test, Y_train, Y_val_and_test = train_test_split(X_scale, Y, test_size=0.3)"
   ]
  },
  {
   "cell_type": "code",
   "execution_count": 51,
   "metadata": {},
   "outputs": [],
   "source": [
    "X_val, X_test, Y_val, Y_test = train_test_split(X_val_and_test, Y_val_and_test, test_size=0.5)"
   ]
  },
  {
   "cell_type": "code",
   "execution_count": 52,
   "metadata": {},
   "outputs": [
    {
     "name": "stdout",
     "output_type": "stream",
     "text": [
      "(3150, 512) (675, 512) (675, 512) (3150,) (675,) (675,)\n"
     ]
    }
   ],
   "source": [
    "#Printing the shape of the arrays\n",
    "print(X_train.shape, X_val.shape, X_test.shape, Y_train.shape, Y_val.shape, Y_test.shape)"
   ]
  },
  {
   "cell_type": "markdown",
   "metadata": {},
   "source": [
    "# Building the Neural Network"
   ]
  },
  {
   "cell_type": "code",
   "execution_count": 53,
   "metadata": {},
   "outputs": [],
   "source": [
    "#Building the Neural Network Model\n",
    "from keras.models import Sequential\n",
    "from keras.layers import Dense"
   ]
  },
  {
   "cell_type": "code",
   "execution_count": 54,
   "metadata": {},
   "outputs": [],
   "source": [
    "#Declaring the hidden layers\n",
    "model = Sequential(\n",
    "    [Dense(32, activation='relu', input_shape=(512,)),\n",
    "     Dense(32, activation='relu'),\n",
    "     Dense(1, activation='sigmoid'),])"
   ]
  },
  {
   "cell_type": "code",
   "execution_count": 55,
   "metadata": {},
   "outputs": [],
   "source": [
    "#Compiling the model\n",
    "model.compile(optimizer='sgd', loss='binary_crossentropy', metrics=['accuracy'])"
   ]
  },
  {
   "cell_type": "markdown",
   "metadata": {},
   "source": [
    "# Training\n",
    "\n",
    "Now, let's start our training."
   ]
  },
  {
   "cell_type": "code",
   "execution_count": 56,
   "metadata": {},
   "outputs": [
    {
     "name": "stdout",
     "output_type": "stream",
     "text": [
      "Train on 3150 samples, validate on 675 samples\n",
      "Epoch 1/100\n",
      "3150/3150 [==============================] - 0s 105us/step - loss: 0.6631 - accuracy: 0.6089 - val_loss: 0.6439 - val_accuracy: 0.6430\n",
      "Epoch 2/100\n",
      "3150/3150 [==============================] - 0s 120us/step - loss: 0.6503 - accuracy: 0.6289 - val_loss: 0.6383 - val_accuracy: 0.6430\n",
      "Epoch 3/100\n",
      "3150/3150 [==============================] - 0s 48us/step - loss: 0.6447 - accuracy: 0.6289 - val_loss: 0.6324 - val_accuracy: 0.6430\n",
      "Epoch 4/100\n",
      "3150/3150 [==============================] - 0s 50us/step - loss: 0.6373 - accuracy: 0.6295 - val_loss: 0.6210 - val_accuracy: 0.6430\n",
      "Epoch 5/100\n",
      "3150/3150 [==============================] - 0s 44us/step - loss: 0.6239 - accuracy: 0.6330 - val_loss: 0.6088 - val_accuracy: 0.6430\n",
      "Epoch 6/100\n",
      "3150/3150 [==============================] - 0s 47us/step - loss: 0.6047 - accuracy: 0.6644 - val_loss: 0.5933 - val_accuracy: 0.6459\n",
      "Epoch 7/100\n",
      "3150/3150 [==============================] - 0s 150us/step - loss: 0.5814 - accuracy: 0.6838 - val_loss: 0.5738 - val_accuracy: 0.7970\n",
      "Epoch 8/100\n",
      "3150/3150 [==============================] - 0s 50us/step - loss: 0.5563 - accuracy: 0.7248 - val_loss: 0.5408 - val_accuracy: 0.6667\n",
      "Epoch 9/100\n",
      "3150/3150 [==============================] - 0s 46us/step - loss: 0.5165 - accuracy: 0.7775 - val_loss: 0.4930 - val_accuracy: 0.7274\n",
      "Epoch 10/100\n",
      "3150/3150 [==============================] - 0s 48us/step - loss: 0.4748 - accuracy: 0.8146 - val_loss: 0.4394 - val_accuracy: 0.8430\n",
      "Epoch 11/100\n",
      "3150/3150 [==============================] - 0s 45us/step - loss: 0.4218 - accuracy: 0.8594 - val_loss: 0.6057 - val_accuracy: 0.5615\n",
      "Epoch 12/100\n",
      "3150/3150 [==============================] - 0s 45us/step - loss: 0.3892 - accuracy: 0.8622 - val_loss: 0.3866 - val_accuracy: 0.7881\n",
      "Epoch 13/100\n",
      "3150/3150 [==============================] - 0s 120us/step - loss: 0.3426 - accuracy: 0.8860 - val_loss: 0.3307 - val_accuracy: 0.9422\n",
      "Epoch 14/100\n",
      "3150/3150 [==============================] - 0s 48us/step - loss: 0.3295 - accuracy: 0.8838 - val_loss: 0.3050 - val_accuracy: 0.8519\n",
      "Epoch 15/100\n",
      "3150/3150 [==============================] - 0s 46us/step - loss: 0.3026 - accuracy: 0.8886 - val_loss: 0.3412 - val_accuracy: 0.8207\n",
      "Epoch 16/100\n",
      "3150/3150 [==============================] - 0s 44us/step - loss: 0.2663 - accuracy: 0.9032 - val_loss: 1.0409 - val_accuracy: 0.3941\n",
      "Epoch 17/100\n",
      "3150/3150 [==============================] - 0s 48us/step - loss: 0.2580 - accuracy: 0.9073 - val_loss: 0.2987 - val_accuracy: 0.8978\n",
      "Epoch 18/100\n",
      "3150/3150 [==============================] - 0s 50us/step - loss: 0.2506 - accuracy: 0.9092 - val_loss: 0.1594 - val_accuracy: 0.9778\n",
      "Epoch 19/100\n",
      "3150/3150 [==============================] - 0s 119us/step - loss: 0.1752 - accuracy: 0.9511 - val_loss: 0.4183 - val_accuracy: 0.7644\n",
      "Epoch 20/100\n",
      "3150/3150 [==============================] - 0s 45us/step - loss: 0.1683 - accuracy: 0.9537 - val_loss: 0.1387 - val_accuracy: 0.9526\n",
      "Epoch 21/100\n",
      "3150/3150 [==============================] - 0s 45us/step - loss: 0.1385 - accuracy: 0.9625 - val_loss: 0.1344 - val_accuracy: 0.9511\n",
      "Epoch 22/100\n",
      "3150/3150 [==============================] - 0s 49us/step - loss: 0.1042 - accuracy: 0.9775 - val_loss: 0.2624 - val_accuracy: 0.8800\n",
      "Epoch 23/100\n",
      "3150/3150 [==============================] - 0s 49us/step - loss: 0.1453 - accuracy: 0.9511 - val_loss: 0.7187 - val_accuracy: 0.7111\n",
      "Epoch 24/100\n",
      "3150/3150 [==============================] - 0s 119us/step - loss: 0.1373 - accuracy: 0.9683 - val_loss: 0.1147 - val_accuracy: 0.9570\n",
      "Epoch 25/100\n",
      "3150/3150 [==============================] - 0s 46us/step - loss: 0.0935 - accuracy: 0.9800 - val_loss: 0.0819 - val_accuracy: 0.9837\n",
      "Epoch 26/100\n",
      "3150/3150 [==============================] - 0s 46us/step - loss: 0.1302 - accuracy: 0.9660 - val_loss: 0.1069 - val_accuracy: 0.9822\n",
      "Epoch 27/100\n",
      "3150/3150 [==============================] - 0s 46us/step - loss: 0.0687 - accuracy: 0.9867 - val_loss: 0.0872 - val_accuracy: 0.9719\n",
      "Epoch 28/100\n",
      "3150/3150 [==============================] - 0s 48us/step - loss: 0.0541 - accuracy: 0.9914 - val_loss: 0.0656 - val_accuracy: 0.9837\n",
      "Epoch 29/100\n",
      "3150/3150 [==============================] - 0s 50us/step - loss: 0.0531 - accuracy: 0.9905 - val_loss: 0.6483 - val_accuracy: 0.6311\n",
      "Epoch 30/100\n",
      "3150/3150 [==============================] - 0s 117us/step - loss: 0.0817 - accuracy: 0.9832 - val_loss: 0.0722 - val_accuracy: 0.9896\n",
      "Epoch 31/100\n",
      "3150/3150 [==============================] - 0s 49us/step - loss: 0.0418 - accuracy: 0.9956 - val_loss: 0.0781 - val_accuracy: 0.9733\n",
      "Epoch 32/100\n",
      "3150/3150 [==============================] - 0s 44us/step - loss: 0.0843 - accuracy: 0.9771 - val_loss: 0.0540 - val_accuracy: 0.9837\n",
      "Epoch 33/100\n",
      "3150/3150 [==============================] - ETA: 0s - loss: 0.0525 - accuracy: 0.98 - 0s 52us/step - loss: 0.0455 - accuracy: 0.9895 - val_loss: 0.0607 - val_accuracy: 0.9793\n",
      "Epoch 34/100\n",
      "3150/3150 [==============================] - 0s 49us/step - loss: 0.0397 - accuracy: 0.9933 - val_loss: 0.0540 - val_accuracy: 0.9807\n",
      "Epoch 35/100\n",
      "3150/3150 [==============================] - 0s 44us/step - loss: 0.0307 - accuracy: 0.9968 - val_loss: 0.0469 - val_accuracy: 0.9852\n",
      "Epoch 36/100\n",
      "3150/3150 [==============================] - 0s 147us/step - loss: 0.1281 - accuracy: 0.9762 - val_loss: 0.0484 - val_accuracy: 0.9881\n",
      "Epoch 37/100\n",
      "3150/3150 [==============================] - 0s 42us/step - loss: 0.0296 - accuracy: 0.9962 - val_loss: 0.0458 - val_accuracy: 0.9881\n",
      "Epoch 38/100\n",
      "3150/3150 [==============================] - 0s 47us/step - loss: 0.0290 - accuracy: 0.9956 - val_loss: 0.0507 - val_accuracy: 0.9822\n",
      "Epoch 39/100\n",
      "3150/3150 [==============================] - 0s 48us/step - loss: 0.0267 - accuracy: 0.9975 - val_loss: 0.0522 - val_accuracy: 0.9807\n",
      "Epoch 40/100\n",
      "3150/3150 [==============================] - 0s 44us/step - loss: 0.0259 - accuracy: 0.9965 - val_loss: 0.0580 - val_accuracy: 0.9793\n",
      "Epoch 41/100\n",
      "3150/3150 [==============================] - 0s 150us/step - loss: 0.0227 - accuracy: 0.9975 - val_loss: 0.0584 - val_accuracy: 0.9793\n",
      "Epoch 42/100\n",
      "3150/3150 [==============================] - 0s 61us/step - loss: 0.0217 - accuracy: 0.9975 - val_loss: 0.0457 - val_accuracy: 0.9837\n",
      "Epoch 43/100\n",
      "3150/3150 [==============================] - 0s 45us/step - loss: 0.0244 - accuracy: 0.9959 - val_loss: 0.0409 - val_accuracy: 0.9837\n",
      "Epoch 44/100\n",
      "3150/3150 [==============================] - 0s 50us/step - loss: 0.0195 - accuracy: 0.9981 - val_loss: 0.0524 - val_accuracy: 0.9793\n",
      "Epoch 45/100\n",
      "3150/3150 [==============================] - 0s 43us/step - loss: 0.0198 - accuracy: 0.9978 - val_loss: 0.0468 - val_accuracy: 0.9822\n",
      "Epoch 46/100\n",
      "3150/3150 [==============================] - 0s 99us/step - loss: 0.0182 - accuracy: 0.9981 - val_loss: 0.1310 - val_accuracy: 0.9467\n",
      "Epoch 47/100\n",
      "3150/3150 [==============================] - 0s 67us/step - loss: 0.0202 - accuracy: 0.9975 - val_loss: 0.0366 - val_accuracy: 0.9852\n",
      "Epoch 48/100\n",
      "3150/3150 [==============================] - 0s 47us/step - loss: 0.0174 - accuracy: 0.9981 - val_loss: 0.0734 - val_accuracy: 0.9719\n",
      "Epoch 49/100\n",
      "3150/3150 [==============================] - 0s 62us/step - loss: 0.0164 - accuracy: 0.9978 - val_loss: 0.0341 - val_accuracy: 0.9852\n",
      "Epoch 50/100\n",
      "3150/3150 [==============================] - 0s 59us/step - loss: 0.0150 - accuracy: 0.9987 - val_loss: 0.0375 - val_accuracy: 0.9941\n",
      "Epoch 51/100\n",
      "3150/3150 [==============================] - 0s 99us/step - loss: 0.0141 - accuracy: 0.9990 - val_loss: 0.0370 - val_accuracy: 0.9837\n",
      "Epoch 52/100\n",
      "3150/3150 [==============================] - 0s 75us/step - loss: 0.0137 - accuracy: 0.9990 - val_loss: 0.0533 - val_accuracy: 0.9822\n",
      "Epoch 53/100\n",
      "3150/3150 [==============================] - 0s 51us/step - loss: 0.0128 - accuracy: 0.9987 - val_loss: 0.0312 - val_accuracy: 0.9881\n",
      "Epoch 54/100\n",
      "3150/3150 [==============================] - 0s 46us/step - loss: 0.0127 - accuracy: 0.9997 - val_loss: 0.0371 - val_accuracy: 0.9837\n",
      "Epoch 55/100\n",
      "3150/3150 [==============================] - 0s 49us/step - loss: 0.0119 - accuracy: 0.9990 - val_loss: 0.0304 - val_accuracy: 0.9881\n",
      "Epoch 56/100\n",
      "3150/3150 [==============================] - 0s 46us/step - loss: 0.0116 - accuracy: 0.9994 - val_loss: 0.0351 - val_accuracy: 0.9837\n",
      "Epoch 57/100\n",
      "3150/3150 [==============================] - 1s 180us/step - loss: 0.0114 - accuracy: 0.9994 - val_loss: 0.0332 - val_accuracy: 0.9852\n",
      "Epoch 58/100\n",
      "3150/3150 [==============================] - 0s 66us/step - loss: 0.0113 - accuracy: 0.9994 - val_loss: 0.0372 - val_accuracy: 0.9837\n",
      "Epoch 59/100\n",
      "3150/3150 [==============================] - 0s 62us/step - loss: 0.0101 - accuracy: 0.9990 - val_loss: 0.0358 - val_accuracy: 0.9837\n",
      "Epoch 60/100\n",
      "3150/3150 [==============================] - 0s 52us/step - loss: 0.0098 - accuracy: 0.9997 - val_loss: 0.0288 - val_accuracy: 0.9881\n",
      "Epoch 61/100\n",
      "3150/3150 [==============================] - 0s 133us/step - loss: 0.0093 - accuracy: 1.0000 - val_loss: 0.0350 - val_accuracy: 0.9837\n",
      "Epoch 62/100\n",
      "3150/3150 [==============================] - 0s 46us/step - loss: 0.0091 - accuracy: 0.9997 - val_loss: 0.0378 - val_accuracy: 0.9837\n",
      "Epoch 63/100\n",
      "3150/3150 [==============================] - 0s 56us/step - loss: 0.0087 - accuracy: 1.0000 - val_loss: 0.0274 - val_accuracy: 0.9881\n",
      "Epoch 64/100\n",
      "3150/3150 [==============================] - 0s 42us/step - loss: 0.0090 - accuracy: 1.0000 - val_loss: 0.0279 - val_accuracy: 0.9881\n",
      "Epoch 65/100\n",
      "3150/3150 [==============================] - 0s 44us/step - loss: 0.0082 - accuracy: 1.0000 - val_loss: 0.0248 - val_accuracy: 0.9970\n",
      "Epoch 66/100\n",
      "3150/3150 [==============================] - 0s 44us/step - loss: 0.0081 - accuracy: 1.0000 - val_loss: 0.0254 - val_accuracy: 0.9911\n",
      "Epoch 67/100\n",
      "3150/3150 [==============================] - 0s 115us/step - loss: 0.0077 - accuracy: 1.0000 - val_loss: 0.0298 - val_accuracy: 0.9852\n",
      "Epoch 68/100\n",
      "3150/3150 [==============================] - 0s 41us/step - loss: 0.0075 - accuracy: 1.0000 - val_loss: 0.0325 - val_accuracy: 0.9852\n",
      "Epoch 69/100\n",
      "3150/3150 [==============================] - 0s 43us/step - loss: 0.0074 - accuracy: 1.0000 - val_loss: 0.0276 - val_accuracy: 0.9867\n",
      "Epoch 70/100\n",
      "3150/3150 [==============================] - 0s 42us/step - loss: 0.0069 - accuracy: 1.0000 - val_loss: 0.0274 - val_accuracy: 0.9867\n",
      "Epoch 71/100\n",
      "3150/3150 [==============================] - 0s 40us/step - loss: 0.0072 - accuracy: 0.9997 - val_loss: 0.0279 - val_accuracy: 0.9867\n",
      "Epoch 72/100\n",
      "3150/3150 [==============================] - 0s 40us/step - loss: 0.0066 - accuracy: 1.0000 - val_loss: 0.0333 - val_accuracy: 0.9837\n",
      "Epoch 73/100\n",
      "3150/3150 [==============================] - 0s 115us/step - loss: 0.0067 - accuracy: 1.0000 - val_loss: 0.0230 - val_accuracy: 0.9926\n",
      "Epoch 74/100\n",
      "3150/3150 [==============================] - 0s 58us/step - loss: 0.0065 - accuracy: 1.0000 - val_loss: 0.0251 - val_accuracy: 0.9881\n",
      "Epoch 75/100\n",
      "3150/3150 [==============================] - 0s 46us/step - loss: 0.0061 - accuracy: 1.0000 - val_loss: 0.0232 - val_accuracy: 0.9911\n",
      "Epoch 76/100\n",
      "3150/3150 [==============================] - 0s 47us/step - loss: 0.0059 - accuracy: 1.0000 - val_loss: 0.0243 - val_accuracy: 0.9881\n",
      "Epoch 77/100\n",
      "3150/3150 [==============================] - 0s 50us/step - loss: 0.0058 - accuracy: 1.0000 - val_loss: 0.0241 - val_accuracy: 0.9911\n",
      "Epoch 78/100\n",
      "3150/3150 [==============================] - 0s 47us/step - loss: 0.0057 - accuracy: 1.0000 - val_loss: 0.0229 - val_accuracy: 0.9911\n",
      "Epoch 79/100\n",
      "3150/3150 [==============================] - 0s 101us/step - loss: 0.0055 - accuracy: 1.0000 - val_loss: 0.0233 - val_accuracy: 0.9911\n",
      "Epoch 80/100\n",
      "3150/3150 [==============================] - 0s 45us/step - loss: 0.0054 - accuracy: 1.0000 - val_loss: 0.0254 - val_accuracy: 0.9867\n",
      "Epoch 81/100\n",
      "3150/3150 [==============================] - 0s 51us/step - loss: 0.0055 - accuracy: 1.0000 - val_loss: 0.0264 - val_accuracy: 0.9867\n",
      "Epoch 82/100\n",
      "3150/3150 [==============================] - 0s 42us/step - loss: 0.0055 - accuracy: 1.0000 - val_loss: 0.0294 - val_accuracy: 0.9852\n",
      "Epoch 83/100\n",
      "3150/3150 [==============================] - 0s 46us/step - loss: 0.0050 - accuracy: 1.0000 - val_loss: 0.0267 - val_accuracy: 0.9867\n",
      "Epoch 84/100\n",
      "3150/3150 [==============================] - 0s 55us/step - loss: 0.0051 - accuracy: 1.0000 - val_loss: 0.0265 - val_accuracy: 0.9867\n",
      "Epoch 85/100\n",
      "3150/3150 [==============================] - 0s 104us/step - loss: 0.0051 - accuracy: 1.0000 - val_loss: 0.0259 - val_accuracy: 0.9867\n",
      "Epoch 86/100\n",
      "3150/3150 [==============================] - 0s 68us/step - loss: 0.0048 - accuracy: 1.0000 - val_loss: 0.0248 - val_accuracy: 0.9867\n",
      "Epoch 87/100\n",
      "3150/3150 [==============================] - 0s 42us/step - loss: 0.0048 - accuracy: 1.0000 - val_loss: 0.0278 - val_accuracy: 0.9852\n",
      "Epoch 88/100\n",
      "3150/3150 [==============================] - 0s 44us/step - loss: 0.0046 - accuracy: 1.0000 - val_loss: 0.0224 - val_accuracy: 0.9911\n",
      "Epoch 89/100\n",
      "3150/3150 [==============================] - 0s 45us/step - loss: 0.0045 - accuracy: 1.0000 - val_loss: 0.0253 - val_accuracy: 0.9867\n",
      "Epoch 90/100\n",
      "3150/3150 [==============================] - 0s 43us/step - loss: 0.0043 - accuracy: 1.0000 - val_loss: 0.0229 - val_accuracy: 0.9911\n",
      "Epoch 91/100\n",
      "3150/3150 [==============================] - 0s 134us/step - loss: 0.0043 - accuracy: 1.0000 - val_loss: 0.0293 - val_accuracy: 0.9852\n",
      "Epoch 92/100\n",
      "3150/3150 [==============================] - 0s 50us/step - loss: 0.0042 - accuracy: 1.0000 - val_loss: 0.0271 - val_accuracy: 0.9867\n",
      "Epoch 93/100\n",
      "3150/3150 [==============================] - 0s 50us/step - loss: 0.0040 - accuracy: 1.0000 - val_loss: 0.0211 - val_accuracy: 0.9926\n",
      "Epoch 94/100\n",
      "3150/3150 [==============================] - 0s 65us/step - loss: 0.0040 - accuracy: 1.0000 - val_loss: 0.0213 - val_accuracy: 0.9941\n",
      "Epoch 95/100\n",
      "3150/3150 [==============================] - 0s 48us/step - loss: 0.0040 - accuracy: 1.0000 - val_loss: 0.0247 - val_accuracy: 0.9867\n",
      "Epoch 96/100\n",
      "3150/3150 [==============================] - 0s 108us/step - loss: 0.0039 - accuracy: 1.0000 - val_loss: 0.0226 - val_accuracy: 0.9911\n",
      "Epoch 97/100\n",
      "3150/3150 [==============================] - 0s 45us/step - loss: 0.0038 - accuracy: 1.0000 - val_loss: 0.0241 - val_accuracy: 0.9867\n",
      "Epoch 98/100\n",
      "3150/3150 [==============================] - 0s 52us/step - loss: 0.0036 - accuracy: 1.0000 - val_loss: 0.0215 - val_accuracy: 0.9926\n",
      "Epoch 99/100\n",
      "3150/3150 [==============================] - 0s 66us/step - loss: 0.0037 - accuracy: 1.0000 - val_loss: 0.0258 - val_accuracy: 0.9867\n",
      "Epoch 100/100\n",
      "3150/3150 [==============================] - 0s 66us/step - loss: 0.0036 - accuracy: 1.0000 - val_loss: 0.0206 - val_accuracy: 0.9926\n"
     ]
    }
   ],
   "source": [
    "hist = model.fit(X_train,\n",
    "                 Y_train,\n",
    "                 batch_size=32,\n",
    "                 epochs=100,\n",
    "                 validation_data=(X_val, Y_val))"
   ]
  },
  {
   "cell_type": "code",
   "execution_count": 57,
   "metadata": {},
   "outputs": [
    {
     "data": {
      "image/png": "[encoded data removed]",
      "text/plain": [
       "<Figure size 432x288 with 1 Axes>"
      ]
     },
     "metadata": {
      "needs_background": "light"
     },
     "output_type": "display_data"
    }
   ],
   "source": [
    "import matplotlib.pyplot as plt\n",
    "plt.plot(hist.history['loss'])\n",
    "plt.plot(hist.history['val_loss'])\n",
    "plt.title('Model loss')\n",
    "plt.ylabel('Loss')\n",
    "plt.xlabel('Epoch')\n",
    "plt.legend(['Train', 'Val'], loc='upper right')\n",
    "plt.show()"
   ]
  },
  {
   "cell_type": "code",
   "execution_count": 58,
   "metadata": {},
   "outputs": [
    {
     "data": {
      "image/png": "[encoded data removed]",
      "text/plain": [
       "<Figure size 432x288 with 1 Axes>"
      ]
     },
     "metadata": {
      "needs_background": "light"
     },
     "output_type": "display_data"
    }
   ],
   "source": [
    "plt.plot(hist.history['accuracy'])\n",
    "plt.plot(hist.history['val_accuracy'])\n",
    "plt.title('Model accuracy')\n",
    "plt.ylabel('Accuracy')\n",
    "plt.xlabel('Epoch')\n",
    "plt.legend(['Train', 'Val'], loc='lower right')\n",
    "plt.show()"
   ]
  },
  {
   "cell_type": "markdown",
   "metadata": {},
   "source": [
    "# Task 2\n",
    "\n",
    "Test the model on the test set."
   ]
  },
  {
   "cell_type": "code",
   "execution_count": 59,
   "metadata": {},
   "outputs": [
    {
     "name": "stdout",
     "output_type": "stream",
     "text": [
      "675/675 [==============================] - 0s 47us/step\n",
      "Accuracy is: 99.70370531082153\n"
     ]
    }
   ],
   "source": [
    "#Evaluating the accuracy of the model by applying the test data on the trained data\n",
    "a = model.evaluate(X_test, Y_test)[1]\n",
    "print('Accuracy is:', a*100)"
   ]
  },
  {
   "cell_type": "markdown",
   "metadata": {},
   "source": [
    "# Congratulations!\n",
    "\n",
    "You've come to the end of this assignment, and you have built your first neural network. \n",
    "\n",
    "Congratulations on finishing this notebook! \n",
    "\n"
   ]
  }
 ],
 "metadata": {
  "coursera": {
   "course_slug": "nlp-sequence-models",
   "graded_item_id": "8hb5s",
   "launcher_item_id": "5NrJ6"
  },
  "kernelspec": {
   "display_name": "Python 3",
   "language": "python",
   "name": "python3"
  },
  "language_info": {
   "codemirror_mode": {
    "name": "ipython",
    "version": 3
   },
   "file_extension": ".py",
   "mimetype": "text/x-python",
   "name": "python",
   "nbconvert_exporter": "python",
   "pygments_lexer": "ipython3",
   "version": "3.6.10"
  }
 },
 "nbformat": 4,
 "nbformat_minor": 2
}
